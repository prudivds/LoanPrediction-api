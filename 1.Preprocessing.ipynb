{
 "cells": [
  {
   "cell_type": "code",
   "execution_count": 40,
   "metadata": {},
   "outputs": [],
   "source": [
    "import os \n",
    "import json\n",
    "import numpy as np\n",
    "import pandas as pd\n",
    "from sklearn.externals import joblib\n",
    "from sklearn.model_selection import train_test_split, GridSearchCV\n",
    "from sklearn.base import BaseEstimator, TransformerMixin\n",
    "from sklearn.ensemble import RandomForestClassifier\n",
    "\n",
    "from sklearn.pipeline import make_pipeline\n",
    "\n",
    "import warnings\n",
    "warnings.filterwarnings(\"ignore\")\n",
    "\n",
    "from sklearn.feature_selection import VarianceThreshold\n",
    "import seaborn as sns\n",
    "import matplotlib.pyplot as plt\n",
    "from sklearn.ensemble import RandomForestRegressor, RandomForestClassifier\n",
    "from sklearn.preprocessing import LabelBinarizer\n",
    "from collections import defaultdict\n",
    "import pandas as pd\n",
    "from mlxtend.feature_selection import SequentialFeatureSelector as SFS\n",
    "from sklearn.metrics import roc_auc_score, mean_squared_error"
   ]
  },
  {
   "cell_type": "code",
   "execution_count": 41,
   "metadata": {},
   "outputs": [],
   "source": [
    "import os\n",
    "# Office\n",
    "os.chdir('/home/exe002/Desktop/Prudhviraju/Code/LoanPrediction')\n",
    "data = pd.read_csv('train_u6lujuX_CVtuZ9i.csv')"
   ]
  },
  {
   "cell_type": "markdown",
   "metadata": {},
   "source": [
    "## Listing the columns persent in the dataset"
   ]
  },
  {
   "cell_type": "code",
   "execution_count": 42,
   "metadata": {},
   "outputs": [],
   "source": [
    "data=data.reset_index(drop=True)"
   ]
  },
  {
   "cell_type": "markdown",
   "metadata": {},
   "source": [
    "### Handling Null Values"
   ]
  },
  {
   "cell_type": "code",
   "execution_count": 43,
   "metadata": {},
   "outputs": [],
   "source": [
    "data.loc[data['Gender'].isnull(),'Gender']='Trasgender'\n",
    "data.loc[data['Dependents'].isnull(),'Dependents']='0'\n",
    "data.loc[data['Education'].isnull(),'Education']='No Education'\n",
    "data.loc[data['Married'].isnull(),'Married']='No'\n",
    "data.loc[data['Self_Employed'].isnull(),'Self_Employed']='No'\n",
    "data=data.drop(index=data.loc[data['LoanAmount'].isnull(),:].index)\n",
    "data.loc[data['Loan_Amount_Term'].isnull(),'Loan_Amount_Term']=0\n",
    "data.loc[data['Credit_History'].isnull(),'Credit_History']=0"
   ]
  },
  {
   "cell_type": "code",
   "execution_count": 44,
   "metadata": {},
   "outputs": [
    {
     "name": "stdout",
     "output_type": "stream",
     "text": [
      "Index(['ApplicantIncome', 'CoapplicantIncome', 'LoanAmount',\n",
      "       'Loan_Amount_Term', 'Credit_History'],\n",
      "      dtype='object')\n",
      "Index(['Loan_ID', 'Gender', 'Married', 'Dependents', 'Education',\n",
      "       'Self_Employed', 'Property_Area', 'Loan_Status'],\n",
      "      dtype='object')\n"
     ]
    }
   ],
   "source": [
    "Numeric_columns=data.select_dtypes(include=['int64','float64'])\n",
    "categorical_columns=data.select_dtypes(include=['object'])\n",
    "print(Numeric_columns.columns)\n",
    "print(categorical_columns.columns)"
   ]
  },
  {
   "cell_type": "markdown",
   "metadata": {},
   "source": [
    "## Constant Values in Numeric Columns"
   ]
  },
  {
   "cell_type": "code",
   "execution_count": 45,
   "metadata": {},
   "outputs": [
    {
     "name": "stdout",
     "output_type": "stream",
     "text": [
      "Total # of non constant features 5\n"
     ]
    }
   ],
   "source": [
    "from sklearn.feature_selection import VarianceThreshold\n",
    "\n",
    "#Using a Built In Function\n",
    "sel = VarianceThreshold(threshold=0)\n",
    "sel.fit(Numeric_columns)  # fit finds the features with zero variance\n",
    "print('Total # of non constant features',sum(sel.get_support()))\n",
    "sel.transform(Numeric_columns)\n",
    "Nonconstant_Numeric=Numeric_columns.loc[:,list(sel.get_support())]"
   ]
  },
  {
   "cell_type": "markdown",
   "metadata": {},
   "source": [
    "## Constant Values in Categorical Columns¶"
   ]
  },
  {
   "cell_type": "code",
   "execution_count": 46,
   "metadata": {},
   "outputs": [
    {
     "name": "stdout",
     "output_type": "stream",
     "text": [
      "[]\n"
     ]
    }
   ],
   "source": [
    "unique_columns=[]\n",
    "for i in categorical_columns.columns:\n",
    "    if len(categorical_columns[i].unique())==1:\n",
    "        unique_columns.append(i)\n",
    "print(unique_columns)"
   ]
  },
  {
   "cell_type": "markdown",
   "metadata": {},
   "source": [
    "## Merging the two dataframes"
   ]
  },
  {
   "cell_type": "code",
   "execution_count": 47,
   "metadata": {},
   "outputs": [
    {
     "data": {
      "text/plain": [
       "Loan_ID              0\n",
       "Gender               0\n",
       "Married              0\n",
       "Dependents           0\n",
       "Education            0\n",
       "Self_Employed        0\n",
       "Property_Area        0\n",
       "Loan_Status          0\n",
       "ApplicantIncome      0\n",
       "CoapplicantIncome    0\n",
       "LoanAmount           0\n",
       "Loan_Amount_Term     0\n",
       "Credit_History       0\n",
       "dtype: int64"
      ]
     },
     "execution_count": 47,
     "metadata": {},
     "output_type": "execute_result"
    }
   ],
   "source": [
    "new_df=pd.concat([categorical_columns,Nonconstant_Numeric],axis=1)\n",
    "new_df.isnull().sum()"
   ]
  },
  {
   "cell_type": "markdown",
   "metadata": {},
   "source": [
    "## Removing the unique key columns"
   ]
  },
  {
   "cell_type": "code",
   "execution_count": 48,
   "metadata": {},
   "outputs": [
    {
     "name": "stdout",
     "output_type": "stream",
     "text": [
      "['Loan_ID']\n"
     ]
    }
   ],
   "source": [
    "unique_columns=[i for i in new_df.columns if len(new_df[i].unique())==new_df.shape[0]]\n",
    "print(unique_columns)"
   ]
  },
  {
   "cell_type": "markdown",
   "metadata": {},
   "source": [
    "## Dropping the unique key columns"
   ]
  },
  {
   "cell_type": "code",
   "execution_count": 49,
   "metadata": {},
   "outputs": [],
   "source": [
    "new_df=new_df.drop(unique_columns,axis=1)"
   ]
  },
  {
   "cell_type": "markdown",
   "metadata": {},
   "source": [
    "## Type conversion"
   ]
  },
  {
   "cell_type": "code",
   "execution_count": 50,
   "metadata": {},
   "outputs": [],
   "source": [
    "new_df['Credit_History']=new_df['Credit_History'].astype(str)"
   ]
  },
  {
   "cell_type": "markdown",
   "metadata": {},
   "source": [
    "## Univariate Analysis"
   ]
  },
  {
   "cell_type": "code",
   "execution_count": 51,
   "metadata": {},
   "outputs": [
    {
     "name": "stdout",
     "output_type": "stream",
     "text": [
      "2867.25    14356.25    -2847.25\n"
     ]
    }
   ],
   "source": [
    "IQR=new_df['ApplicantIncome'].quantile(0.75)-new_df['ApplicantIncome'].quantile(0.25)\n",
    "upper_fence=new_df['ApplicantIncome'].quantile(0.75)+(IQR*3)\n",
    "lower_fence=new_df['ApplicantIncome'].quantile(0.75)-(IQR*3)\n",
    "print(IQR,'  ', upper_fence,'  ',lower_fence)\n",
    "new_df=new_df.loc[(new_df['ApplicantIncome']<=upper_fence) & (new_df['ApplicantIncome']>=lower_fence), :]"
   ]
  },
  {
   "cell_type": "code",
   "execution_count": 52,
   "metadata": {},
   "outputs": [],
   "source": [
    "from sklearn.preprocessing import MinMaxScaler\n",
    "from collections import defaultdict\n",
    "encoding_minmax=defaultdict(MinMaxScaler)\n",
    "features_num=['ApplicantIncome']\n",
    "for feat in features_num:\n",
    "    encoded_df=pd.DataFrame()\n",
    "    #d=pd.DataFrame(encoding_minmax(feat).fit_transform(new_df[feat]))\n",
    "    d=pd.DataFrame(encoding_minmax[feat].fit_transform(new_df[[feat]]))\n",
    "    test_column=d.columns.values\n",
    "    list_column=[feat+'_'+'minmax' for j in test_column]\n",
    "    d.columns=list_column\n",
    "    encoded_df=pd.concat([encoded_df,d],axis=1).reset_index(drop=True)\n",
    "    new_df.drop(feat,axis=1,inplace=True)\n",
    "    new_df=new_df.reset_index(drop=True)\n",
    "    new_df=pd.concat([new_df,encoded_df],axis=1)\n",
    "import pickle\n",
    "with open('minmax_pickle.pkl','wb') as f:\n",
    "    pickle.dump(encoding_minmax,f)"
   ]
  },
  {
   "cell_type": "code",
   "execution_count": 53,
   "metadata": {},
   "outputs": [
    {
     "data": {
      "text/plain": [
       "defaultdict(sklearn.preprocessing.data.MinMaxScaler,\n",
       "            {'ApplicantIncome': MinMaxScaler(copy=True, feature_range=(0, 1))})"
      ]
     },
     "execution_count": 53,
     "metadata": {},
     "output_type": "execute_result"
    }
   ],
   "source": [
    "encoding_minmax"
   ]
  },
  {
   "cell_type": "code",
   "execution_count": 54,
   "metadata": {},
   "outputs": [],
   "source": [
    "from sklearn.preprocessing import StandardScaler\n",
    "from collections import defaultdict\n",
    "encoding_standardscaler=defaultdict(StandardScaler)\n",
    "features_num=['LoanAmount']\n",
    "for feat in features_num:\n",
    "    encoded_df=pd.DataFrame()\n",
    "    #d=pd.DataFrame(encoding_minmax(feat).fit_transform(new_df[feat]))\n",
    "    d=pd.DataFrame(encoding_standardscaler[feat].fit_transform(new_df[[feat]]))\n",
    "    test_column=d.columns.values\n",
    "    list_column=[feat+'_'+'minmax' for j in test_column]\n",
    "    d.columns=list_column\n",
    "    encoded_df=pd.concat([encoded_df,d],axis=1).reset_index(drop=True)\n",
    "    new_df.drop(feat,axis=1,inplace=True)\n",
    "    new_df=new_df.reset_index(drop=True)\n",
    "    new_df=pd.concat([new_df,encoded_df],axis=1)\n",
    "\n",
    "with open('standardscaler_pickle.pkl','wb') as f:\n",
    "    pickle.dump(encoding_standardscaler,f)"
   ]
  },
  {
   "cell_type": "markdown",
   "metadata": {},
   "source": [
    "## One Hot Encoding"
   ]
  },
  {
   "cell_type": "code",
   "execution_count": 55,
   "metadata": {},
   "outputs": [],
   "source": [
    "from sklearn.preprocessing import LabelBinarizer\n",
    "from collections import defaultdict\n",
    "import pandas as pd\n",
    "encoding_binarizer=defaultdict(LabelBinarizer)\n",
    "col_nominal=['Self_Employed','Married','Gender']\n",
    "for feat in col_nominal:\n",
    "    encoded_df=pd.DataFrame()\n",
    "    d=pd.DataFrame(encoding_binarizer[feat].fit_transform(new_df[feat]))\n",
    "    test_column=d.columns.values\n",
    "    list_columns=[feat+'_'+str(j) for j in test_column]\n",
    "    #print(list_columns)\n",
    "    d.columns=list_columns\n",
    "    #print(d.head())\n",
    "    encoded_df=pd.concat([encoded_df,d],axis=1).reset_index(drop=True)\n",
    "    new_df.drop(feat,axis=1,inplace=True)\n",
    "    new_df=new_df.reset_index(drop=True)\n",
    "    new_df=pd.concat([new_df,encoded_df],axis=1)\n",
    "\n",
    "with open('binarizer_pickle.pkl','wb') as f:\n",
    "    pickle.dump(encoding_binarizer,f)"
   ]
  },
  {
   "cell_type": "code",
   "execution_count": 56,
   "metadata": {},
   "outputs": [
    {
     "data": {
      "text/plain": [
       "defaultdict(sklearn.preprocessing.label.LabelBinarizer,\n",
       "            {'Self_Employed': LabelBinarizer(neg_label=0, pos_label=1, sparse_output=False),\n",
       "             'Married': LabelBinarizer(neg_label=0, pos_label=1, sparse_output=False),\n",
       "             'Gender': LabelBinarizer(neg_label=0, pos_label=1, sparse_output=False)})"
      ]
     },
     "execution_count": 56,
     "metadata": {},
     "output_type": "execute_result"
    }
   ],
   "source": [
    "encoding_binarizer"
   ]
  },
  {
   "cell_type": "markdown",
   "metadata": {},
   "source": [
    " ### Label Encoding"
   ]
  },
  {
   "cell_type": "code",
   "execution_count": 57,
   "metadata": {},
   "outputs": [],
   "source": [
    "from sklearn.preprocessing import LabelEncoder\n",
    "from collections import defaultdict\n",
    "encoding_labelencoder=defaultdict(LabelEncoder)\n",
    "col_ordinal=['Education','Property_Area','Loan_Status','Dependents','Credit_History']\n",
    "for feat in col_ordinal:\n",
    "    encoded_df=pd.DataFrame()\n",
    "    d=pd.DataFrame(encoding_labelencoder[feat].fit_transform(new_df[feat]))\n",
    "    test_column=d.columns.values\n",
    "    list_columns=[feat+'_'+str(j) for j in test_column]\n",
    "    d.columns=list_columns\n",
    "    encoded_df=pd.concat([encoded_df,d],axis=1).reset_index(drop=True)\n",
    "    new_df.drop(feat,axis=1,inplace=True)\n",
    "    new_df=new_df.reset_index(drop=True)\n",
    "    new_df=pd.concat([new_df,encoded_df],axis=1)\n",
    "#with open('C:\\\\Users\\\\prudi\\\\Desktop\\\\Data Sets\\\\Loan Prediction\\\\labelencoder_pickle.pkl','wb') as f:\n",
    "#    pickle.dump(encoding_labelencoder,f)\n",
    "with open('labelencoder_pickle.pkl','wb') as f:\n",
    "    pickle.dump(encoding_labelencoder,f)"
   ]
  },
  {
   "cell_type": "code",
   "execution_count": 58,
   "metadata": {},
   "outputs": [
    {
     "data": {
      "text/plain": [
       "Index(['CoapplicantIncome', 'Loan_Amount_Term', 'ApplicantIncome_minmax',\n",
       "       'LoanAmount_minmax', 'Self_Employed_0', 'Married_0', 'Gender_0',\n",
       "       'Gender_1', 'Gender_2', 'Education_0', 'Property_Area_0',\n",
       "       'Loan_Status_0', 'Dependents_0', 'Credit_History_0'],\n",
       "      dtype='object')"
      ]
     },
     "execution_count": 58,
     "metadata": {},
     "output_type": "execute_result"
    }
   ],
   "source": [
    "new_df.columns"
   ]
  },
  {
   "cell_type": "code",
   "execution_count": null,
   "metadata": {},
   "outputs": [],
   "source": []
  },
  {
   "cell_type": "code",
   "execution_count": null,
   "metadata": {},
   "outputs": [],
   "source": []
  },
  {
   "cell_type": "code",
   "execution_count": null,
   "metadata": {},
   "outputs": [],
   "source": []
  },
  {
   "cell_type": "code",
   "execution_count": null,
   "metadata": {},
   "outputs": [],
   "source": []
  },
  {
   "cell_type": "code",
   "execution_count": null,
   "metadata": {},
   "outputs": [],
   "source": []
  }
 ],
 "metadata": {
  "kernelspec": {
   "display_name": "Python 3",
   "language": "python",
   "name": "python3"
  },
  "language_info": {
   "codemirror_mode": {
    "name": "ipython",
    "version": 3
   },
   "file_extension": ".py",
   "mimetype": "text/x-python",
   "name": "python",
   "nbconvert_exporter": "python",
   "pygments_lexer": "ipython3",
   "version": "3.7.4"
  }
 },
 "nbformat": 4,
 "nbformat_minor": 2
}
